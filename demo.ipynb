{
 "cells": [
  {
   "cell_type": "markdown",
   "id": "ae87974e-5888-4efe-a698-5d79f7df2f57",
   "metadata": {},
   "source": [
    "# dbptools\n",
    "\n",
    "An example module illustrating queries for the DBpedia SPARQL endpoint.\n",
    "\n",
    "## DBpedia & SPARQL\n",
    "\n",
    "[DBpedia](https://dbpedia.org/about) is a database that compiles structured information from Wikipedia and other Wikimedia projects. This information can be queried from a computer program without having to scrape and process the raw text of Wikipedia articles.\n",
    "\n",
    "Entries in DBpedia are structured as linked data. Each entity (for example [Angela Merkel](https://dbpedia.org/page/Angela_Merkel) or [candiru](https://dbpedia.org/page/Candiru)) is of a particular type (for example 'agent' or 'fish'), and has various properties or relations (for example 'birthDate' or 'taxon').\n",
    "\n",
    "[SPARQL](https://en.wikipedia.org/wiki/SPARQL) is a query language similar to SQL, with some additional features specifically designed for querying linked data. DBpedia provides an [online form](https://dbpedia.org/sparql) for testing SPARQL queries against the database.\n",
    "\n",
    "The example module [dbptools.py](dbptools.py) in this repository illustrates basic use of the DBpedia SPARQL endpoint from Python. It relies heavily on an existing Python package for handling SPARQL queries, [SPARQLWrapper](https://github.com/RDFLib/sparqlwrapper)."
   ]
  },
  {
   "cell_type": "code",
   "execution_count": 1,
   "id": "3aef32f2-baa1-473e-8e4f-2a8b5f1d2773",
   "metadata": {},
   "outputs": [],
   "source": [
    "import dbptools"
   ]
  },
  {
   "cell_type": "markdown",
   "id": "9839e5ff-6317-4ef2-8168-c6e641a1f333",
   "metadata": {},
   "source": [
    "## DBPEntity\n",
    "\n",
    "The module uses the `DBPEntity` class to represent entities in DBPedia. To initialize an instance of the class, supply the name of an entry from Wikipedia. The optional argument `verbose` toggles printing the text of SPARQL queries."
   ]
  },
  {
   "cell_type": "code",
   "execution_count": 2,
   "id": "dec41bc4-3b81-499e-8f11-a8f19f1bad52",
   "metadata": {},
   "outputs": [
    {
     "name": "stdout",
     "output_type": "stream",
     "text": [
      "\n",
      "PREFIX dbpedia: <http://dbpedia.org/resource/>\n",
      "PREFIX dbo: <http://dbpedia.org/ontology/>\n",
      "ASK WHERE { dbpedia:Angela_Merkel a owl:Thing }\n"
     ]
    }
   ],
   "source": [
    "entity = dbptools.DBPEntity('Angela Merkel', verbose=True)"
   ]
  },
  {
   "cell_type": "markdown",
   "id": "b9f6f369-addf-4ca4-8018-cf45dd63de5b",
   "metadata": {},
   "source": [
    "We can see that one query was issued already at initialization. This `ASK` query checks that the requested entity exists in DBPedia, by asking whether it is an instance of the base class `Thing`.\n",
    "\n",
    "If the requested entity is not in DBPedia, we get a `NotInDBPedia` exception."
   ]
  },
  {
   "cell_type": "code",
   "execution_count": 3,
   "id": "9c977dbd-791c-4a2a-8674-ad69246427af",
   "metadata": {
    "tags": [
     "raises-exception"
    ]
   },
   "outputs": [
    {
     "ename": "NotInDBPediaError",
     "evalue": "('Angelika_Murkle', 'not in DBPedia.')",
     "output_type": "error",
     "traceback": [
      "\u001b[0;31m---------------------------------------------------------------------------\u001b[0m",
      "\u001b[0;31mNotInDBPediaError\u001b[0m                         Traceback (most recent call last)",
      "\u001b[0;32m/tmp/ipykernel_4723/327322195.py\u001b[0m in \u001b[0;36m<module>\u001b[0;34m\u001b[0m\n\u001b[0;32m----> 1\u001b[0;31m \u001b[0mdbptools\u001b[0m\u001b[0;34m.\u001b[0m\u001b[0mDBPEntity\u001b[0m\u001b[0;34m(\u001b[0m\u001b[0;34m'Angelika Murkle'\u001b[0m\u001b[0;34m)\u001b[0m\u001b[0;34m\u001b[0m\u001b[0;34m\u001b[0m\u001b[0m\n\u001b[0m",
      "\u001b[0;32m~/GitHub/DBpedia-tools/dbptools.py\u001b[0m in \u001b[0;36m__init__\u001b[0;34m(self, name, verbose)\u001b[0m\n\u001b[1;32m    148\u001b[0m                 \u001b[0mself\u001b[0m\u001b[0;34m.\u001b[0m\u001b[0mresolved_name\u001b[0m \u001b[0;34m=\u001b[0m \u001b[0muri\u001b[0m\u001b[0;34m.\u001b[0m\u001b[0msplit\u001b[0m\u001b[0;34m(\u001b[0m\u001b[0;34m'/'\u001b[0m\u001b[0;34m)\u001b[0m\u001b[0;34m[\u001b[0m\u001b[0;34m-\u001b[0m\u001b[0;36m1\u001b[0m\u001b[0;34m]\u001b[0m\u001b[0;34m\u001b[0m\u001b[0;34m\u001b[0m\u001b[0m\n\u001b[1;32m    149\u001b[0m             \u001b[0;32melse\u001b[0m\u001b[0;34m:\u001b[0m\u001b[0;34m\u001b[0m\u001b[0;34m\u001b[0m\u001b[0m\n\u001b[0;32m--> 150\u001b[0;31m                 \u001b[0;32mraise\u001b[0m \u001b[0mNotInDBPediaError\u001b[0m\u001b[0;34m(\u001b[0m\u001b[0mformatted_name\u001b[0m\u001b[0;34m,\u001b[0m \u001b[0;34m'not in DBPedia.'\u001b[0m\u001b[0;34m)\u001b[0m\u001b[0;34m\u001b[0m\u001b[0;34m\u001b[0m\u001b[0m\n\u001b[0m\u001b[1;32m    151\u001b[0m \u001b[0;34m\u001b[0m\u001b[0m\n\u001b[1;32m    152\u001b[0m     \u001b[0;32mdef\u001b[0m \u001b[0mis_person\u001b[0m\u001b[0;34m(\u001b[0m\u001b[0mself\u001b[0m\u001b[0;34m)\u001b[0m\u001b[0;34m:\u001b[0m\u001b[0;34m\u001b[0m\u001b[0;34m\u001b[0m\u001b[0m\n",
      "\u001b[0;31mNotInDBPediaError\u001b[0m: ('Angelika_Murkle', 'not in DBPedia.')"
     ]
    }
   ],
   "source": [
    "dbptools.DBPEntity('Angelika Murkle')"
   ]
  },
  {
   "cell_type": "markdown",
   "id": "0a93130b-d8b7-463a-968c-3cc12d5a279a",
   "metadata": {},
   "source": [
    "At initialization, the requested name is also 'resolved'. This involves first converting to Wikipedia format (with spaces replaced by underscores), and checking whether the name redirects to another entity.\n",
    "\n",
    "The final resolved Wikipedia entity name is available in the `resolved_name` attribute."
   ]
  },
  {
   "cell_type": "code",
   "execution_count": 4,
   "id": "7de79de4-de1f-4263-b247-87a171bfa40e",
   "metadata": {},
   "outputs": [
    {
     "name": "stdout",
     "output_type": "stream",
     "text": [
      "\n",
      "PREFIX dbpedia: <http://dbpedia.org/resource/>\n",
      "PREFIX dbo: <http://dbpedia.org/ontology/>\n",
      "ASK WHERE { dbpedia:Angie_Merkel a owl:Thing }\n",
      "\n",
      "PREFIX dbpedia: <http://dbpedia.org/resource/>\n",
      "PREFIX dbo: <http://dbpedia.org/ontology/>\n",
      "SELECT ?entity WHERE {dbpedia:Angie_Merkel dbo:wikiPageRedirects ?entity} LIMIT 1\n"
     ]
    },
    {
     "data": {
      "text/plain": [
       "'Angela_Merkel'"
      ]
     },
     "execution_count": 4,
     "metadata": {},
     "output_type": "execute_result"
    }
   ],
   "source": [
    "entity = dbptools.DBPEntity('Angie Merkel', verbose=True)\n",
    "\n",
    "entity.resolved_name"
   ]
  },
  {
   "cell_type": "markdown",
   "id": "a464d594-4db8-46fc-8e97-e94a78932f12",
   "metadata": {},
   "source": [
    "## Example methods\n",
    "\n",
    "A few methods illustrate how `DPBEntity` could be extended to make other queries about an entity.\n",
    "\n",
    "For example `is_person()` or `is_politician()`."
   ]
  },
  {
   "cell_type": "code",
   "execution_count": 5,
   "id": "637eee7e-719c-4aaf-84b0-2b60fd7c8190",
   "metadata": {},
   "outputs": [
    {
     "name": "stdout",
     "output_type": "stream",
     "text": [
      "\n",
      "PREFIX dbpedia: <http://dbpedia.org/resource/>\n",
      "PREFIX dbo: <http://dbpedia.org/ontology/>\n",
      "ASK WHERE { dbpedia:Angela_Merkel a dbo:Person }\n"
     ]
    },
    {
     "data": {
      "text/plain": [
       "True"
      ]
     },
     "execution_count": 5,
     "metadata": {},
     "output_type": "execute_result"
    }
   ],
   "source": [
    "entity.is_person()"
   ]
  },
  {
   "cell_type": "code",
   "execution_count": 6,
   "id": "ca92dc35-6f14-4c7d-be44-2f3572013fc8",
   "metadata": {},
   "outputs": [
    {
     "name": "stdout",
     "output_type": "stream",
     "text": [
      "\n",
      "PREFIX dbpedia: <http://dbpedia.org/resource/>\n",
      "PREFIX dbo: <http://dbpedia.org/ontology/>\n",
      "ASK WHERE { dbpedia:Angela_Merkel a dbo:Politician }\n"
     ]
    },
    {
     "data": {
      "text/plain": [
       "True"
      ]
     },
     "execution_count": 6,
     "metadata": {},
     "output_type": "execute_result"
    }
   ],
   "source": [
    "entity.is_politician()"
   ]
  },
  {
   "cell_type": "markdown",
   "id": "41636d08-cae2-41d8-b6bd-4f435e20f6bb",
   "metadata": {},
   "source": [
    "Many such queries are made simpler by the [DBPedia ontology](https://dbpedia.org/ontology/), which defines classes such as `Person` and `Politician`. But sometimes there is no pre-defined class for the query we wish to make. For example, to find out if a person is dead, we have to check various different death-related properties."
   ]
  },
  {
   "cell_type": "code",
   "execution_count": 7,
   "id": "5a8d8b82-7d61-4316-8e83-e5365a5a9f5e",
   "metadata": {},
   "outputs": [
    {
     "name": "stdout",
     "output_type": "stream",
     "text": [
      "\n",
      "PREFIX dbpedia: <http://dbpedia.org/resource/>\n",
      "PREFIX dbo: <http://dbpedia.org/ontology/>\n",
      "ASK WHERE { dbpedia:Angela_Merkel dbo:deathPlace|dbo:deathDate|dbo:deathCause|dbo:bodyDiscovered|dbo:placeOfBurial|dbo:deathYear|dbo:causeOfDeath|dbo:dateOfBurial|dbo:deadInFightDate|dbo:deadInFightPlace|dbo:deathAge ?value }\n"
     ]
    },
    {
     "data": {
      "text/plain": [
       "False"
      ]
     },
     "execution_count": 7,
     "metadata": {},
     "output_type": "execute_result"
    }
   ],
   "source": [
    "entity.is_dead()"
   ]
  }
 ],
 "metadata": {
  "kernelspec": {
   "display_name": "Python 3 (ipykernel)",
   "language": "python",
   "name": "python3"
  },
  "language_info": {
   "codemirror_mode": {
    "name": "ipython",
    "version": 3
   },
   "file_extension": ".py",
   "mimetype": "text/x-python",
   "name": "python",
   "nbconvert_exporter": "python",
   "pygments_lexer": "ipython3",
   "version": "3.8.10"
  }
 },
 "nbformat": 4,
 "nbformat_minor": 5
}
