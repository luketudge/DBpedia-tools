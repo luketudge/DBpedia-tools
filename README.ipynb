{
 "cells": [
  {
   "cell_type": "markdown",
   "metadata": {},
   "source": [
    "# dbptools\n",
    "\n",
    "An example module illustrating queries for the DBpedia SPARQL endpoint.\n",
    "\n",
    "## DBpedia & SPARQL\n",
    "\n",
    "[DBpedia](https://dbpedia.org/about) is a database that compiles structured information from Wikipedia and other Wikimedia projects. This information can be queried from a computer program without having to scrape and process the raw text of Wikipedia articles.\n",
    "\n",
    "Entries in DBpedia are structured as linked data. Each entity (for example [Ronald Reagan](https://dbpedia.org/page/Ronald_Reagan) or [baked Alaska](https://dbpedia.org/page/Baked_Alaska)) is of a particular type (for example 'agent' or 'dessert'), and has various properties or relations (for example 'birthDate' or 'ingredient').\n",
    "\n",
    "[SPARQL](https://en.wikipedia.org/wiki/SPARQL) is a query language similar to SQL, with some additional features specifically designed for querying linked data. DBpedia provides an [online form](https://dbpedia.org/sparql) for testing SPARQL queries against the database.\n",
    "\n",
    "The example module [dbptools.py](dbptools.py) in this repository illustrates basic use of the DBpedia SPARQL endpoint from Python. It relies heavily on an existing Python package for handling SPARQL queries, [SPARQLWrapper](https://github.com/RDFLib/sparqlwrapper)."
   ]
  },
  {
   "cell_type": "code",
   "execution_count": 1,
   "metadata": {},
   "outputs": [],
   "source": [
    "import dbptools"
   ]
  },
  {
   "cell_type": "markdown",
   "metadata": {},
   "source": [
    "## Formatting Wikipedia names\n",
    "\n",
    "Entries in Wikipedia and in DBpedia begin with uppercase letters and represent spaces using the underscore. The module provides a convenience function `format_name()` for converting terms to this format."
   ]
  },
  {
   "cell_type": "code",
   "execution_count": 2,
   "metadata": {},
   "outputs": [
    {
     "data": {
      "text/plain": [
       "'Jellied_eels'"
      ]
     },
     "execution_count": 2,
     "metadata": {},
     "output_type": "execute_result"
    }
   ],
   "source": [
    "dbptools.format_name('jellied eels')"
   ]
  },
  {
   "cell_type": "markdown",
   "metadata": {},
   "source": [
    "## Checking if an entry exists\n",
    "\n",
    "The module provides a function `entry_exists()` for checking whether an entry is present in the database."
   ]
  },
  {
   "cell_type": "code",
   "execution_count": 3,
   "metadata": {},
   "outputs": [
    {
     "data": {
      "text/plain": [
       "True"
      ]
     },
     "execution_count": 3,
     "metadata": {},
     "output_type": "execute_result"
    }
   ],
   "source": [
    "dbptools.entry_exists('jellied eels')"
   ]
  },
  {
   "cell_type": "code",
   "execution_count": 4,
   "metadata": {},
   "outputs": [
    {
     "data": {
      "text/plain": [
       "False"
      ]
     },
     "execution_count": 4,
     "metadata": {},
     "output_type": "execute_result"
    }
   ],
   "source": [
    "dbptools.entry_exists('some non-notable person I met once at a convention')"
   ]
  },
  {
   "cell_type": "markdown",
   "metadata": {},
   "source": [
    "## Verbose mode\n",
    "\n",
    "The constant `VERBOSE` controls whether the text of the SPARQL query is printed every time a query is made. This can be useful for debugging."
   ]
  },
  {
   "cell_type": "code",
   "execution_count": 5,
   "metadata": {},
   "outputs": [
    {
     "name": "stdout",
     "output_type": "stream",
     "text": [
      "\n",
      "PREFIX dbpedia: <http://dbpedia.org/resource/>\n",
      "PREFIX dbo: <http://dbpedia.org/ontology/>\n",
      "ASK WHERE { dbpedia:Jellied_eels a owl:Thing }\n"
     ]
    },
    {
     "data": {
      "text/plain": [
       "True"
      ]
     },
     "execution_count": 5,
     "metadata": {},
     "output_type": "execute_result"
    }
   ],
   "source": [
    "dbptools.VERBOSE = True\n",
    "\n",
    "dbptools.entry_exists('jellied eels')"
   ]
  },
  {
   "cell_type": "markdown",
   "metadata": {},
   "source": [
    "Verbose mode can also be useful for learning something about the workings of SPARQL. In the example above we can see that the main query (in curly braces) asks whether the requested entry is of class `Thing`. This is the base class in the database and so all entries that are present will be of this type.\n",
    "\n",
    "We also see that two 'prefixes' have been prepended to the query automatically. For example, the `dbpedia` prefix points to the DBpedia database `http://dbpedia.org/resource/`. In the main query, the queried entry is preceded by this prefix.\n",
    "\n",
    "The main query is an `ASK` query, which asks a yes/no question. In this case, the question is: Is Jellied_eels a Thing?\n",
    "\n",
    "We can leave verbose mode on for the remaining example to see more queries in action.\n",
    "\n",
    "## Example functions\n",
    "\n",
    "The module provides three more functions as an illustration of other simple `ASK` queries.\n",
    "\n",
    "`is_person()` asks whether an entry refers to a person."
   ]
  },
  {
   "cell_type": "code",
   "execution_count": 6,
   "metadata": {},
   "outputs": [
    {
     "name": "stdout",
     "output_type": "stream",
     "text": [
      "\n",
      "PREFIX dbpedia: <http://dbpedia.org/resource/>\n",
      "PREFIX dbo: <http://dbpedia.org/ontology/>\n",
      "ASK WHERE { dbpedia:Nicki_Minaj a owl:Thing }\n",
      "\n",
      "PREFIX dbpedia: <http://dbpedia.org/resource/>\n",
      "PREFIX dbo: <http://dbpedia.org/ontology/>\n",
      "ASK WHERE { dbpedia:Nicki_Minaj a dbo:Person }\n"
     ]
    },
    {
     "data": {
      "text/plain": [
       "True"
      ]
     },
     "execution_count": 6,
     "metadata": {},
     "output_type": "execute_result"
    }
   ],
   "source": [
    "dbptools.is_person('Nicki Minaj')"
   ]
  },
  {
   "cell_type": "markdown",
   "metadata": {},
   "source": [
    "Again, this is accomplished by using the `a` predicate followed by a class. But this time, the class `Person` comes from a database of definitions (an 'ontology') provided as part of the DBpedia project. We can see this because it is preceded by the `dbo` prefix that is defined at the beginning of the query as pointing to the online location of this ontology, `http://dbpedia.org/ontology/`.\n",
    "\n",
    "We can see also that the `entry_exists()` query was also issued first. This is because `is_person()` is decorated with a decorator provided in the module, called `check_exists()`. This decorator applies `entry_exists()` to the first argument of the decorated function, and raises `NotInDBPediaError` if the entry could not be found."
   ]
  },
  {
   "cell_type": "code",
   "execution_count": 7,
   "metadata": {
    "tags": [
     "raises-exception"
    ]
   },
   "outputs": [
    {
     "name": "stdout",
     "output_type": "stream",
     "text": [
      "\n",
      "PREFIX dbpedia: <http://dbpedia.org/resource/>\n",
      "PREFIX dbo: <http://dbpedia.org/ontology/>\n",
      "ASK WHERE { dbpedia:Some_non-notable_person_I_met_once_at_a_convention a owl:Thing }\n"
     ]
    },
    {
     "ename": "NotInDBPediaError",
     "evalue": "'Some_non-notable_person_I_met_once_at_a_convention' not in DBpedia.",
     "output_type": "error",
     "traceback": [
      "\u001b[0;31m---------------------------------------------------------------------------\u001b[0m",
      "\u001b[0;31mNotInDBPediaError\u001b[0m                         Traceback (most recent call last)",
      "\u001b[0;32m<ipython-input-7-2316c266a7a2>\u001b[0m in \u001b[0;36m<module>\u001b[0;34m\u001b[0m\n\u001b[0;32m----> 1\u001b[0;31m \u001b[0mdbptools\u001b[0m\u001b[0;34m.\u001b[0m\u001b[0mis_person\u001b[0m\u001b[0;34m(\u001b[0m\u001b[0;34m'some non-notable person I met once at a convention'\u001b[0m\u001b[0;34m)\u001b[0m\u001b[0;34m\u001b[0m\u001b[0;34m\u001b[0m\u001b[0m\n\u001b[0m",
      "\u001b[0;32m~/GitHub/DBpedia-tools/dbptools.py\u001b[0m in \u001b[0;36mwrapper\u001b[0;34m(*args, **kwargs)\u001b[0m\n\u001b[1;32m    118\u001b[0m         \u001b[0mentity\u001b[0m \u001b[0;34m=\u001b[0m \u001b[0mformat_name\u001b[0m\u001b[0;34m(\u001b[0m\u001b[0margs\u001b[0m\u001b[0;34m[\u001b[0m\u001b[0;36m0\u001b[0m\u001b[0;34m]\u001b[0m\u001b[0;34m)\u001b[0m\u001b[0;34m\u001b[0m\u001b[0;34m\u001b[0m\u001b[0m\n\u001b[1;32m    119\u001b[0m         \u001b[0;32mif\u001b[0m \u001b[0;32mnot\u001b[0m \u001b[0mentry_exists\u001b[0m\u001b[0;34m(\u001b[0m\u001b[0mentity\u001b[0m\u001b[0;34m)\u001b[0m\u001b[0;34m:\u001b[0m\u001b[0;34m\u001b[0m\u001b[0;34m\u001b[0m\u001b[0m\n\u001b[0;32m--> 120\u001b[0;31m             \u001b[0;32mraise\u001b[0m \u001b[0mNotInDBPediaError\u001b[0m\u001b[0;34m(\u001b[0m\u001b[0;34m\"'\"\u001b[0m \u001b[0;34m+\u001b[0m \u001b[0mentity\u001b[0m \u001b[0;34m+\u001b[0m \u001b[0;34m\"' not in DBpedia.\"\u001b[0m\u001b[0;34m)\u001b[0m\u001b[0;34m\u001b[0m\u001b[0;34m\u001b[0m\u001b[0m\n\u001b[0m\u001b[1;32m    121\u001b[0m         \u001b[0;32mreturn\u001b[0m \u001b[0mfunc\u001b[0m\u001b[0;34m(\u001b[0m\u001b[0;34m*\u001b[0m\u001b[0margs\u001b[0m\u001b[0;34m,\u001b[0m \u001b[0;34m**\u001b[0m\u001b[0mkwargs\u001b[0m\u001b[0;34m)\u001b[0m\u001b[0;34m\u001b[0m\u001b[0;34m\u001b[0m\u001b[0m\n\u001b[1;32m    122\u001b[0m \u001b[0;34m\u001b[0m\u001b[0m\n",
      "\u001b[0;31mNotInDBPediaError\u001b[0m: 'Some_non-notable_person_I_met_once_at_a_convention' not in DBpedia."
     ]
    }
   ],
   "source": [
    "dbptools.is_person('some non-notable person I met once at a convention')"
   ]
  },
  {
   "cell_type": "markdown",
   "metadata": {},
   "source": [
    "Two other functions `is_politician()` and `is_dead()` work in a similar way."
   ]
  }
 ],
 "metadata": {
  "celltoolbar": "Tags",
  "kernelspec": {
   "display_name": "Python 3",
   "language": "python",
   "name": "python3"
  },
  "language_info": {
   "codemirror_mode": {
    "name": "ipython",
    "version": 3
   },
   "file_extension": ".py",
   "mimetype": "text/x-python",
   "name": "python",
   "nbconvert_exporter": "python",
   "pygments_lexer": "ipython3",
   "version": "3.8.10"
  }
 },
 "nbformat": 4,
 "nbformat_minor": 4
}
